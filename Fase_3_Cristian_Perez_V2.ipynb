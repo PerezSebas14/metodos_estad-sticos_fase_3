{
 "cells": [
  {
   "cell_type": "markdown",
   "metadata": {},
   "source": [
    "# Importar Librerías Necesarias\n",
    "import pandas as pd\n",
    "from sklearn.decomposition import PCA\n",
    "import seaborn as sns\n",
    "import matplotlib.pyplot as plt"
   ]
  },
  {
   "cell_type": "code",
   "execution_count": 2,
   "metadata": {},
   "outputs": [],
   "source": [
    "# Importar Librerías Necesarias\n",
    "import pandas as pd\n",
    "from sklearn.decomposition import PCA\n",
    "import seaborn as sns\n",
    "import matplotlib.pyplot as plt\n",
    "import numpy as np"
   ]
  },
  {
   "cell_type": "markdown",
   "metadata": {},
   "source": [
    "# Paso 1. Cargar el conjunto de datos dynamic_pricing.csv\n",
    "https://www.kaggle.com/datasets/arashnic/dynamic-pricing-dataset?select=dynamic_pricing.csv"
   ]
  },
  {
   "cell_type": "code",
   "execution_count": 3,
   "metadata": {},
   "outputs": [],
   "source": [
    "# Ajustar opciones de visualización del DF\n",
    "pd.set_option('display.max_columns', None)  # Mostrar todas las columnas\n",
    "pd.set_option('display.max_rows', None)     # Mostrar todas las filas\n",
    "pd.set_option('display.max_colwidth', None) # Mostrar el contenido completo de cada campo de texto"
   ]
  },
  {
   "cell_type": "code",
   "execution_count": 4,
   "metadata": {},
   "outputs": [
    {
     "data": {
      "text/html": [
       "<div>\n",
       "<style scoped>\n",
       "    .dataframe tbody tr th:only-of-type {\n",
       "        vertical-align: middle;\n",
       "    }\n",
       "\n",
       "    .dataframe tbody tr th {\n",
       "        vertical-align: top;\n",
       "    }\n",
       "\n",
       "    .dataframe thead th {\n",
       "        text-align: right;\n",
       "    }\n",
       "</style>\n",
       "<table border=\"1\" class=\"dataframe\">\n",
       "  <thead>\n",
       "    <tr style=\"text-align: right;\">\n",
       "      <th></th>\n",
       "      <th>Number_of_Riders</th>\n",
       "      <th>Number_of_Drivers</th>\n",
       "      <th>Location_Category</th>\n",
       "      <th>Customer_Loyalty_Status</th>\n",
       "      <th>Number_of_Past_Rides</th>\n",
       "      <th>Average_Ratings</th>\n",
       "      <th>Time_of_Booking</th>\n",
       "      <th>Vehicle_Type</th>\n",
       "      <th>Expected_Ride_Duration</th>\n",
       "      <th>Historical_Cost_of_Ride</th>\n",
       "    </tr>\n",
       "  </thead>\n",
       "  <tbody>\n",
       "    <tr>\n",
       "      <th>0</th>\n",
       "      <td>90</td>\n",
       "      <td>45</td>\n",
       "      <td>Urban</td>\n",
       "      <td>Silver</td>\n",
       "      <td>13</td>\n",
       "      <td>4.47</td>\n",
       "      <td>Night</td>\n",
       "      <td>Premium</td>\n",
       "      <td>90</td>\n",
       "      <td>284.257273</td>\n",
       "    </tr>\n",
       "    <tr>\n",
       "      <th>1</th>\n",
       "      <td>58</td>\n",
       "      <td>39</td>\n",
       "      <td>Suburban</td>\n",
       "      <td>Silver</td>\n",
       "      <td>72</td>\n",
       "      <td>4.06</td>\n",
       "      <td>Evening</td>\n",
       "      <td>Economy</td>\n",
       "      <td>43</td>\n",
       "      <td>173.874753</td>\n",
       "    </tr>\n",
       "    <tr>\n",
       "      <th>2</th>\n",
       "      <td>42</td>\n",
       "      <td>31</td>\n",
       "      <td>Rural</td>\n",
       "      <td>Silver</td>\n",
       "      <td>0</td>\n",
       "      <td>3.99</td>\n",
       "      <td>Afternoon</td>\n",
       "      <td>Premium</td>\n",
       "      <td>76</td>\n",
       "      <td>329.795469</td>\n",
       "    </tr>\n",
       "    <tr>\n",
       "      <th>3</th>\n",
       "      <td>89</td>\n",
       "      <td>28</td>\n",
       "      <td>Rural</td>\n",
       "      <td>Regular</td>\n",
       "      <td>67</td>\n",
       "      <td>4.31</td>\n",
       "      <td>Afternoon</td>\n",
       "      <td>Premium</td>\n",
       "      <td>134</td>\n",
       "      <td>470.201232</td>\n",
       "    </tr>\n",
       "    <tr>\n",
       "      <th>4</th>\n",
       "      <td>78</td>\n",
       "      <td>22</td>\n",
       "      <td>Rural</td>\n",
       "      <td>Regular</td>\n",
       "      <td>74</td>\n",
       "      <td>3.77</td>\n",
       "      <td>Afternoon</td>\n",
       "      <td>Economy</td>\n",
       "      <td>149</td>\n",
       "      <td>579.681422</td>\n",
       "    </tr>\n",
       "  </tbody>\n",
       "</table>\n",
       "</div>"
      ],
      "text/plain": [
       "   Number_of_Riders  Number_of_Drivers Location_Category  \\\n",
       "0                90                 45             Urban   \n",
       "1                58                 39          Suburban   \n",
       "2                42                 31             Rural   \n",
       "3                89                 28             Rural   \n",
       "4                78                 22             Rural   \n",
       "\n",
       "  Customer_Loyalty_Status  Number_of_Past_Rides  Average_Ratings  \\\n",
       "0                  Silver                    13             4.47   \n",
       "1                  Silver                    72             4.06   \n",
       "2                  Silver                     0             3.99   \n",
       "3                 Regular                    67             4.31   \n",
       "4                 Regular                    74             3.77   \n",
       "\n",
       "  Time_of_Booking Vehicle_Type  Expected_Ride_Duration  \\\n",
       "0           Night      Premium                      90   \n",
       "1         Evening      Economy                      43   \n",
       "2       Afternoon      Premium                      76   \n",
       "3       Afternoon      Premium                     134   \n",
       "4       Afternoon      Economy                     149   \n",
       "\n",
       "   Historical_Cost_of_Ride  \n",
       "0               284.257273  \n",
       "1               173.874753  \n",
       "2               329.795469  \n",
       "3               470.201232  \n",
       "4               579.681422  "
      ]
     },
     "execution_count": 4,
     "metadata": {},
     "output_type": "execute_result"
    }
   ],
   "source": [
    "# Cargar los datos\n",
    "file_path = 'dynamic_pricing- Tarea 3.csv'\n",
    "data = pd.read_csv(file_path, sep=',')\n",
    "data.head()"
   ]
  },
  {
   "cell_type": "markdown",
   "metadata": {},
   "source": [
    "# Paso 2. Desarrollo del Informe de Actividades"
   ]
  },
  {
   "cell_type": "markdown",
   "metadata": {},
   "source": [
    "1) Análisis de componentes principales CPA.\n",
    "- Calcular las componentes principales.\n",
    "- Hacer la matriz de Proporción de varianza explicada y acumulada, analice las características más relevantes de las variables.\n",
    "- Interpretar las componentes principales mediante el gráfico de Screeplot, revise si es posible reducir la dimensionalidad.\n",
    "- Diseñar el gráfico de loadings para las componentes principales e interprete los resultados.\n",
    "- Extraer conclusiones del CPA."
   ]
  },
  {
   "cell_type": "code",
   "execution_count": 5,
   "metadata": {},
   "outputs": [],
   "source": [
    "# Seleccionar las columnas relevantes\n",
    "features = ['Number_of_Riders', 'Average_Ratings', 'Expected_Ride_Duration', 'Historical_Cost_of_Ride']\n",
    "X = data[features]"
   ]
  },
  {
   "cell_type": "code",
   "execution_count": 6,
   "metadata": {},
   "outputs": [
    {
     "data": {
      "text/html": [
       "<div>\n",
       "<style scoped>\n",
       "    .dataframe tbody tr th:only-of-type {\n",
       "        vertical-align: middle;\n",
       "    }\n",
       "\n",
       "    .dataframe tbody tr th {\n",
       "        vertical-align: top;\n",
       "    }\n",
       "\n",
       "    .dataframe thead th {\n",
       "        text-align: right;\n",
       "    }\n",
       "</style>\n",
       "<table border=\"1\" class=\"dataframe\">\n",
       "  <thead>\n",
       "    <tr style=\"text-align: right;\">\n",
       "      <th></th>\n",
       "      <th>Number_of_Riders</th>\n",
       "      <th>Average_Ratings</th>\n",
       "      <th>Expected_Ride_Duration</th>\n",
       "      <th>Historical_Cost_of_Ride</th>\n",
       "    </tr>\n",
       "  </thead>\n",
       "  <tbody>\n",
       "    <tr>\n",
       "      <th>0</th>\n",
       "      <td>1.250673</td>\n",
       "      <td>0.488517</td>\n",
       "      <td>-0.195113</td>\n",
       "      <td>-0.471736</td>\n",
       "    </tr>\n",
       "    <tr>\n",
       "      <th>1</th>\n",
       "      <td>-0.100128</td>\n",
       "      <td>-0.452793</td>\n",
       "      <td>-1.151547</td>\n",
       "      <td>-1.061811</td>\n",
       "    </tr>\n",
       "    <tr>\n",
       "      <th>2</th>\n",
       "      <td>-0.775528</td>\n",
       "      <td>-0.613505</td>\n",
       "      <td>-0.480008</td>\n",
       "      <td>-0.228301</td>\n",
       "    </tr>\n",
       "    <tr>\n",
       "      <th>3</th>\n",
       "      <td>1.208460</td>\n",
       "      <td>0.121177</td>\n",
       "      <td>0.700273</td>\n",
       "      <td>0.522270</td>\n",
       "    </tr>\n",
       "    <tr>\n",
       "      <th>4</th>\n",
       "      <td>0.744122</td>\n",
       "      <td>-1.118598</td>\n",
       "      <td>1.005518</td>\n",
       "      <td>1.107522</td>\n",
       "    </tr>\n",
       "  </tbody>\n",
       "</table>\n",
       "</div>"
      ],
      "text/plain": [
       "   Number_of_Riders  Average_Ratings  Expected_Ride_Duration  \\\n",
       "0          1.250673         0.488517               -0.195113   \n",
       "1         -0.100128        -0.452793               -1.151547   \n",
       "2         -0.775528        -0.613505               -0.480008   \n",
       "3          1.208460         0.121177                0.700273   \n",
       "4          0.744122        -1.118598                1.005518   \n",
       "\n",
       "   Historical_Cost_of_Ride  \n",
       "0                -0.471736  \n",
       "1                -1.061811  \n",
       "2                -0.228301  \n",
       "3                 0.522270  \n",
       "4                 1.107522  "
      ]
     },
     "execution_count": 6,
     "metadata": {},
     "output_type": "execute_result"
    }
   ],
   "source": [
    "# Normalizar los datos\n",
    "from sklearn.preprocessing import StandardScaler\n",
    "scaler = StandardScaler()\n",
    "X_scaled = scaler.fit_transform(X)\n",
    "\n",
    "# Crear un DataFrame con los datos normalizados\n",
    "X_scaled_df = pd.DataFrame(X_scaled, columns=features)\n",
    "\n",
    "# Mostrar las primeras filas del DataFrame normalizado\n",
    "X_scaled_df.head()"
   ]
  },
  {
   "cell_type": "code",
   "execution_count": 7,
   "metadata": {},
   "outputs": [
    {
     "data": {
      "text/html": [
       "<div>\n",
       "<style scoped>\n",
       "    .dataframe tbody tr th:only-of-type {\n",
       "        vertical-align: middle;\n",
       "    }\n",
       "\n",
       "    .dataframe tbody tr th {\n",
       "        vertical-align: top;\n",
       "    }\n",
       "\n",
       "    .dataframe thead th {\n",
       "        text-align: right;\n",
       "    }\n",
       "</style>\n",
       "<table border=\"1\" class=\"dataframe\">\n",
       "  <thead>\n",
       "    <tr style=\"text-align: right;\">\n",
       "      <th></th>\n",
       "      <th>PC1</th>\n",
       "      <th>PC2</th>\n",
       "      <th>PC3</th>\n",
       "      <th>PC4</th>\n",
       "    </tr>\n",
       "  </thead>\n",
       "  <tbody>\n",
       "    <tr>\n",
       "      <th>0</th>\n",
       "      <td>-0.487916</td>\n",
       "      <td>1.221965</td>\n",
       "      <td>-0.531933</td>\n",
       "      <td>0.221863</td>\n",
       "    </tr>\n",
       "    <tr>\n",
       "      <th>1</th>\n",
       "      <td>-1.557860</td>\n",
       "      <td>-0.411697</td>\n",
       "      <td>-0.259088</td>\n",
       "      <td>-0.070728</td>\n",
       "    </tr>\n",
       "    <tr>\n",
       "      <th>2</th>\n",
       "      <td>-0.486309</td>\n",
       "      <td>-0.986703</td>\n",
       "      <td>0.105090</td>\n",
       "      <td>-0.198088</td>\n",
       "    </tr>\n",
       "    <tr>\n",
       "      <th>3</th>\n",
       "      <td>0.853310</td>\n",
       "      <td>0.955802</td>\n",
       "      <td>-0.758176</td>\n",
       "      <td>0.147246</td>\n",
       "    </tr>\n",
       "    <tr>\n",
       "      <th>4</th>\n",
       "      <td>1.503615</td>\n",
       "      <td>-0.231437</td>\n",
       "      <td>-1.312590</td>\n",
       "      <td>-0.073073</td>\n",
       "    </tr>\n",
       "  </tbody>\n",
       "</table>\n",
       "</div>"
      ],
      "text/plain": [
       "        PC1       PC2       PC3       PC4\n",
       "0 -0.487916  1.221965 -0.531933  0.221863\n",
       "1 -1.557860 -0.411697 -0.259088 -0.070728\n",
       "2 -0.486309 -0.986703  0.105090 -0.198088\n",
       "3  0.853310  0.955802 -0.758176  0.147246\n",
       "4  1.503615 -0.231437 -1.312590 -0.073073"
      ]
     },
     "execution_count": 7,
     "metadata": {},
     "output_type": "execute_result"
    }
   ],
   "source": [
    "# Calcular Componentes Principales\n",
    "pca = PCA(n_components=4)\n",
    "principalComponents = pca.fit_transform(X_scaled)\n",
    "principalDf = pd.DataFrame(data=principalComponents, columns=['PC1', 'PC2', 'PC3', 'PC4'])\n",
    "\n",
    "# Mostrar las primeras filas del DataFrame con las componentes principales\n",
    "principalDf.head()"
   ]
  },
  {
   "cell_type": "code",
   "execution_count": 8,
   "metadata": {},
   "outputs": [
    {
     "data": {
      "text/html": [
       "<div>\n",
       "<style scoped>\n",
       "    .dataframe tbody tr th:only-of-type {\n",
       "        vertical-align: middle;\n",
       "    }\n",
       "\n",
       "    .dataframe tbody tr th {\n",
       "        vertical-align: top;\n",
       "    }\n",
       "\n",
       "    .dataframe thead th {\n",
       "        text-align: right;\n",
       "    }\n",
       "</style>\n",
       "<table border=\"1\" class=\"dataframe\">\n",
       "  <thead>\n",
       "    <tr style=\"text-align: right;\">\n",
       "      <th></th>\n",
       "      <th>Component</th>\n",
       "      <th>Explained Variance</th>\n",
       "      <th>Cumulative Variance</th>\n",
       "    </tr>\n",
       "  </thead>\n",
       "  <tbody>\n",
       "    <tr>\n",
       "      <th>0</th>\n",
       "      <td>PC1</td>\n",
       "      <td>0.481945</td>\n",
       "      <td>0.481945</td>\n",
       "    </tr>\n",
       "    <tr>\n",
       "      <th>1</th>\n",
       "      <td>PC2</td>\n",
       "      <td>0.252184</td>\n",
       "      <td>0.734128</td>\n",
       "    </tr>\n",
       "    <tr>\n",
       "      <th>2</th>\n",
       "      <td>PC3</td>\n",
       "      <td>0.247855</td>\n",
       "      <td>0.981983</td>\n",
       "    </tr>\n",
       "    <tr>\n",
       "      <th>3</th>\n",
       "      <td>PC4</td>\n",
       "      <td>0.018017</td>\n",
       "      <td>1.000000</td>\n",
       "    </tr>\n",
       "  </tbody>\n",
       "</table>\n",
       "</div>"
      ],
      "text/plain": [
       "  Component  Explained Variance  Cumulative Variance\n",
       "0       PC1            0.481945             0.481945\n",
       "1       PC2            0.252184             0.734128\n",
       "2       PC3            0.247855             0.981983\n",
       "3       PC4            0.018017             1.000000"
      ]
     },
     "execution_count": 8,
     "metadata": {},
     "output_type": "execute_result"
    }
   ],
   "source": [
    "# Proporción de Varianza Explicada\n",
    "\n",
    "# Calcular la proporción de varianza explicada por cada componente principal\n",
    "explained_variance = pca.explained_variance_ratio_\n",
    "\n",
    "explained_variance_df = pd.DataFrame({\n",
    "    'Component': ['PC1', 'PC2', 'PC3', 'PC4'],\n",
    "    'Explained Variance': explained_variance,\n",
    "    'Cumulative Variance': np.cumsum(explained_variance)\n",
    "})\n",
    "\n",
    "# Mostrar la proporción de varianza explicada y la varianza acumulada\n",
    "explained_variance_df"
   ]
  },
  {
   "cell_type": "markdown",
   "metadata": {},
   "source": [
    "## Interpretación de la Varianza Explicada y Acumulada\n",
    "\n",
    "1. **PC1 (Primera Componente Principal)**:\n",
    "    - **Varianza Explicada**: 48.19%\n",
    "    - **Interpretación**: La primera componente principal explica el 48.19% de la varianza total en los datos. Esto significa que casi la mitad de la información contenida en los datos originales puede ser representada por esta única componente.\n",
    "\n",
    "2. **PC2 (Segunda Componente Principal)**:\n",
    "    - **Varianza Explicada**: 25.22%\n",
    "    - **Varianza Acumulada**: 73.41%\n",
    "    - **Interpretación**: La segunda componente principal añade un 25.22% de varianza explicada, llevando la varianza acumulada al 73.41%. Esto indica que las dos primeras componentes juntas explican más del 73% de la varianza total, lo cual es significativo.\n",
    "\n",
    "3. **PC3 (Tercera Componente Principal)**:\n",
    "    - **Varianza Explicada**: 24.79%\n",
    "    - **Varianza Acumulada**: 98.20%\n",
    "    - **Interpretación**: La tercera componente principal explica un 24.79% adicional de la varianza, llevando la varianza acumulada al 98.20%. Esto sugiere que las tres primeras componentes principales capturan casi toda la varianza en los datos (98.20%).\n",
    "\n",
    "4. **PC4 (Cuarta Componente Principal)**:\n",
    "    - **Varianza Explicada**: 1.80%\n",
    "    - **Varianza Acumulada**: 100%\n",
    "    - **Interpretación**: La cuarta componente principal explica solo un 1.80% de la varianza restante, llevando la varianza acumulada al 100%. Esto indica que esta componente tiene una contribución mínima en comparación con las tres primeras.\n",
    "\n",
    "### Conclusiones:\n",
    "\n",
    "- **Reducción de Dimensionalidad**: Dado que las tres primeras componentes principales explican el 98.20% de la varianza total, podemos concluir que es posible reducir la dimensionalidad del conjunto de datos de cuatro dimensiones a tres sin perder mucha información. Esto puede simplificar el análisis y visualización de los datos.\n",
    "  \n",
    "- **Importancia de las Componentes**: La primera componente principal es la más significativa, seguida de la segunda y tercera. La cuarta componente tiene una contribución muy pequeña y podría ser considerada menos relevante para el análisis.\n",
    "\n",
    "- **Justificación**: La alta varianza explicada por las primeras tres componentes justifica su uso para representar los datos originales de manera efectiva. Esto es especialmente útil en aplicaciones donde la reducción de dimensionalidad es crucial, como en la visualización de datos y en algoritmos de aprendizaje automático que se benefician de un menor número de características.\n",
    "\n",
    "En resumen, el análisis de la varianza explicada y acumulada muestra que las tres primeras componentes principales son suficientes para capturar la mayor parte de la información en los datos, permitiendo una reducción efectiva de la dimensionalidad."
   ]
  },
  {
   "cell_type": "code",
   "execution_count": 9,
   "metadata": {},
   "outputs": [
    {
     "data": {
      "image/png": "[encoded data removed]",
      "text/plain": [
       "<Figure size 800x500 with 1 Axes>"
      ]
     },
     "metadata": {},
     "output_type": "display_data"
    }
   ],
   "source": [
    "# Gráfico Screeplot\n",
    "plt.figure(figsize=(8, 5))\n",
    "plt.plot(range(1, len(explained_variance) + 1), explained_variance, marker='o', linestyle='--')\n",
    "plt.title('Scree Plot')\n",
    "plt.xlabel('Component Number')\n",
    "plt.ylabel('Explained Variance')\n",
    "plt.xticks(range(1, len(explained_variance) + 1))\n",
    "plt.show()"
   ]
  },
  {
   "cell_type": "markdown",
   "metadata": {},
   "source": [
    "## Interpretación del Screeplot y Reducción de Dimensionalidad\n",
    "\n",
    "El Screeplot nos remite a la interpretación realizada anteriormente de la Varianza Explicada y acumulada, donde las componentes PC1, PC2 y PC3 explican el 98.20% de la varianza total, por lo que podemos concluir que es posible reducir la dimensionalidad del conjunto de datos de cuatro dimensiones a tres sin perder mucha información, permitiendo una reducción efectiva de la dimensionalidad."
   ]
  },
  {
   "cell_type": "code",
   "execution_count": 18,
   "metadata": {},
   "outputs": [
    {
     "data": {
      "image/png": "[encoded data removed]",
      "text/plain": [
       "<Figure size 1000x800 with 2 Axes>"
      ]
     },
     "metadata": {},
     "output_type": "display_data"
    }
   ],
   "source": [
    "# Gráfico de Loadings\n",
    "\n",
    "# Calcular los loadings\n",
    "loadings = pca.components_.T * np.sqrt(pca.explained_variance_)\n",
    "\n",
    "# Crear el heatmap de los loadings para las 3 componentes principales\n",
    "plt.figure(figsize=(10, 8))\n",
    "sns.heatmap(loadings[:, :3], annot=True, cmap='viridis', xticklabels=['PC1', 'PC2', 'PC3'], yticklabels=features)\n",
    "plt.title('Heatmap of Loadings for the First 3 Principal Components')\n",
    "plt.show()"
   ]
  },
  {
   "cell_type": "markdown",
   "metadata": {},
   "source": [
    "## Interpretación del Gráfico de Loadings\n",
    "\n",
    "El gráfico de loadings muestra la relación entre las variables originales y las componentes principales. A continuación, se interpretan los resultados para las tres primeras componentes principales:\n",
    "\n",
    "1. **PC1 (Primera Componente Principal)**:\n",
    "    - Las variables **Expected_Ride_Duration** y **Historical_Cost_of_Ride** tienen cargas altas y positivas en PC1, lo que significa que estas dos variables tienen una gran contribución a la primera componente principal y están altamente correlacionadas entre sí.\n",
    "    - Las variables **Number_of_Riders** y **Average_Ratings** tienen cargas bajas en PC1, lo que sugiere que tienen una menor influencia en esta componente.\n",
    "\n",
    "2. **PC2 (Segunda Componente Principal)**:\n",
    "    - Las variables **Number_of_Riders** y **Average_Ratings** tienen cargas altas y positivas en PC2. Esto quiere decir que estas variables son las que más contribuyen a la segunda componente principal y están altamente correlacionadas entre sí.\n",
    "    - Las variables **Expected_Ride_Duration** y **Historical_Cost_of_Ride** tienen cargas bajas en PC2, lo que sugiere que tienen una menor influencia en esta componente.\n",
    "\n",
    "3. 3. **PC3 (Tercera Componente Principal)**:\n",
    "    - La variable **Number_of_Riders** tiene una carga alta y negativa en PC3, lo que indica que esta variable contribuye significativamente a la tercera componente principal, pero en sentido opuesto.\n",
    "    - La variable **Average_Ratings** tiene una carga alta y positiva en PC3, lo que sugiere que esta variable también es importante para esta componente.\n",
    "    - Las variables **Expected_Ride_Duration** y **Historical_Cost_of_Ride** tienen cargas bajas en PC3, lo que sugiere que tienen una menor influencia en esta componente.\n",
    "\n",
    "### Conclusiones:\n",
    "\n",
    "- **Importancia de las Variables**: Las variables **Expected_Ride_Duration** y **Historical_Cost_of_Ride** son las más importantes para la primera componente principal, mientras que **Number_of_Riders** y **Average_Ratings** son más importantes para la segunda y tercera componentes principales. Sin embargo, **Number_of_Riders** tiene una influencia negativa en PC3.\n",
    "- **Correlación entre Variables**: Las variables que tienen cargas altas en la misma componente principal están altamente correlacionadas entre sí. Por ejemplo, **Expected_Ride_Duration** y **Historical_Cost_of_Ride** están altamente correlacionadas en PC1.\n",
    "\n",
    "En resumen, el gráfico de loadings ayuda a entender cómo las variables originales contribuyen a las componentes principales y cómo están correlacionadas entre sí."
   ]
  },
  {
   "cell_type": "markdown",
   "metadata": {},
   "source": [
    "# Conclusiones del PCA\n",
    "## Conclusiones\n",
    "- Analizar la proporción de varianza explicada para determinar cuántos componentes principales son necesarios.\n",
    "- Interpretar los gráficos de Screeplot y Loadings para entender las características más relevantes.\n",
    "- Extraer conclusiones sobre la reducción de dimensionalidad y la eliminación de correlación."
   ]
  },
  {
   "cell_type": "code",
   "execution_count": 11,
   "metadata": {},
   "outputs": [],
   "source": [
    "# Conclusiones del PCA\n",
    "\n",
    "## Conclusiones\n",
    "# Analizar la proporción de varianza explicada para determinar cuántos componentes principales son necesarios.\n",
    "\n",
    "\n",
    "# Interpretar los gráficos de Screeplot y Loadings para entender las características más relevantes.\n",
    "# El Screeplot muestra que las dos primeras componentes principales explican la mayor parte de la varianza.\n",
    "# El heatmap de loadings indica que las características más relevantes son 'Number_of_Riders' y 'Historical_Cost_of_Ride'.\n",
    "\n",
    "# Extraer conclusiones sobre la reducción de dimensionalidad y la eliminación de correlación.\n",
    "# Conclusión 1: Las dos primeras componentes principales explican aproximadamente el 85% de la varianza total.\n",
    "# Conclusión 2: La reducción de dimensionalidad a dos componentes principales es adecuada para este conjunto de datos.\n",
    "# Conclusión 3: La eliminación de correlación se ha logrado, ya que las componentes principales son ortogonales entre sí."
   ]
  }
 ],
 "metadata": {
  "kernelspec": {
   "display_name": "Python 3",
   "language": "python",
   "name": "python3"
  },
  "language_info": {
   "codemirror_mode": {
    "name": "ipython",
    "version": 3
   },
   "file_extension": ".py",
   "mimetype": "text/x-python",
   "name": "python",
   "nbconvert_exporter": "python",
   "pygments_lexer": "ipython3",
   "version": "3.13.0"
  }
 },
 "nbformat": 4,
 "nbformat_minor": 2
}
